{
 "cells": [
  {
   "cell_type": "code",
   "execution_count": 17,
   "metadata": {},
   "outputs": [],
   "source": [
    "# Para utilizar las funciones group_by, summarise y %>% \n",
    "# Simplifican considerablemente el tratamiento de datos agrupados, evitándose bucles, \n",
    "library(dplyr)\n",
    "library(lubridate)"
   ]
  },
  {
   "cell_type": "code",
   "execution_count": 4,
   "metadata": {},
   "outputs": [],
   "source": [
    "# Carga del CSV\n",
    "cdp_raw <- read.csv(\"./CdP_estadistica.csv\")"
   ]
  },
  {
   "cell_type": "code",
   "execution_count": 12,
   "metadata": {},
   "outputs": [
    {
     "data": {
      "text/html": [
       "<ol class=list-inline>\n",
       "\t<li>'date'</li>\n",
       "\t<li>'AVG.Temp.'</li>\n",
       "\t<li>'AVG.Press.'</li>\n",
       "\t<li>'AVG.Cond.'</li>\n",
       "\t<li>'AVG.Salinity.'</li>\n",
       "\t<li>'AVG.DO.'</li>\n",
       "\t<li>'AVG.rawO2.'</li>\n",
       "\t<li>'AVG.OxySat.'</li>\n",
       "\t<li>'AVG.pH.'</li>\n",
       "\t<li>'AVG.Redox.'</li>\n",
       "\t<li>'date_f'</li>\n",
       "</ol>\n"
      ],
      "text/latex": [
       "\\begin{enumerate*}\n",
       "\\item 'date'\n",
       "\\item 'AVG.Temp.'\n",
       "\\item 'AVG.Press.'\n",
       "\\item 'AVG.Cond.'\n",
       "\\item 'AVG.Salinity.'\n",
       "\\item 'AVG.DO.'\n",
       "\\item 'AVG.rawO2.'\n",
       "\\item 'AVG.OxySat.'\n",
       "\\item 'AVG.pH.'\n",
       "\\item 'AVG.Redox.'\n",
       "\\item 'date\\_f'\n",
       "\\end{enumerate*}\n"
      ],
      "text/markdown": [
       "1. 'date'\n",
       "2. 'AVG.Temp.'\n",
       "3. 'AVG.Press.'\n",
       "4. 'AVG.Cond.'\n",
       "5. 'AVG.Salinity.'\n",
       "6. 'AVG.DO.'\n",
       "7. 'AVG.rawO2.'\n",
       "8. 'AVG.OxySat.'\n",
       "9. 'AVG.pH.'\n",
       "10. 'AVG.Redox.'\n",
       "11. 'date_f'\n",
       "\n",
       "\n"
      ],
      "text/plain": [
       " [1] \"date\"          \"AVG.Temp.\"     \"AVG.Press.\"    \"AVG.Cond.\"    \n",
       " [5] \"AVG.Salinity.\" \"AVG.DO.\"       \"AVG.rawO2.\"    \"AVG.OxySat.\"  \n",
       " [9] \"AVG.pH.\"       \"AVG.Redox.\"    \"date_f\"       "
      ]
     },
     "metadata": {},
     "output_type": "display_data"
    }
   ],
   "source": [
    "# colnames(cdp_raw)\n",
    "cdp_raw$Date_f <- as.Date(cdp_raw$date)"
   ]
  },
  {
   "cell_type": "code",
   "execution_count": 37,
   "metadata": {},
   "outputs": [],
   "source": [
    "data_ <- cdp_raw[year(cdp_raw$Date_f) %in% c(2014, 2015) & month(cdp_raw$Date_f) %in% c(7,8,9),]\n",
    "data_2014 <- cdp_raw[year(cdp_raw$Date_f) %in% c(2014) & month(cdp_raw$Date_f) %in% c(7,8,9),]\n",
    "data_2015 <- cdp_raw[year(cdp_raw$Date_f) %in% c(2015) & month(cdp_raw$Date_f) %in% c(7,8,9),]"
   ]
  },
  {
   "cell_type": "code",
   "execution_count": 38,
   "metadata": {},
   "outputs": [
    {
     "data": {
      "text/html": [
       "<table>\n",
       "<thead><tr><th scope=col>mean</th><th scope=col>sd</th><th scope=col>var</th><th scope=col>n</th></tr></thead>\n",
       "<tbody>\n",
       "\t<tr><td>17.58554</td><td>1.896687</td><td>3.597423</td><td>92      </td></tr>\n",
       "</tbody>\n",
       "</table>\n"
      ],
      "text/latex": [
       "\\begin{tabular}{r|llll}\n",
       " mean & sd & var & n\\\\\n",
       "\\hline\n",
       "\t 17.58554 & 1.896687 & 3.597423 & 92      \\\\\n",
       "\\end{tabular}\n"
      ],
      "text/markdown": [
       "\n",
       "mean | sd | var | n | \n",
       "|---|\n",
       "| 17.58554 | 1.896687 | 3.597423 | 92       | \n",
       "\n",
       "\n"
      ],
      "text/plain": [
       "  mean     sd       var      n \n",
       "1 17.58554 1.896687 3.597423 92"
      ]
     },
     "metadata": {},
     "output_type": "display_data"
    },
    {
     "data": {
      "text/html": [
       "<table>\n",
       "<thead><tr><th scope=col>mean</th><th scope=col>sd</th><th scope=col>var</th><th scope=col>n</th></tr></thead>\n",
       "<tbody>\n",
       "\t<tr><td>18.5962 </td><td>1.903122</td><td>3.621872</td><td>92      </td></tr>\n",
       "</tbody>\n",
       "</table>\n"
      ],
      "text/latex": [
       "\\begin{tabular}{r|llll}\n",
       " mean & sd & var & n\\\\\n",
       "\\hline\n",
       "\t 18.5962  & 1.903122 & 3.621872 & 92      \\\\\n",
       "\\end{tabular}\n"
      ],
      "text/markdown": [
       "\n",
       "mean | sd | var | n | \n",
       "|---|\n",
       "| 18.5962  | 1.903122 | 3.621872 | 92       | \n",
       "\n",
       "\n"
      ],
      "text/plain": [
       "  mean    sd       var      n \n",
       "1 18.5962 1.903122 3.621872 92"
      ]
     },
     "metadata": {},
     "output_type": "display_data"
    },
    {
     "data": {
      "text/html": [
       "<table>\n",
       "<thead><tr><th scope=col>mean</th><th scope=col>sd</th><th scope=col>var</th><th scope=col>n</th></tr></thead>\n",
       "<tbody>\n",
       "\t<tr><td>18.09087</td><td>1.961294</td><td>3.846672</td><td>184     </td></tr>\n",
       "</tbody>\n",
       "</table>\n"
      ],
      "text/latex": [
       "\\begin{tabular}{r|llll}\n",
       " mean & sd & var & n\\\\\n",
       "\\hline\n",
       "\t 18.09087 & 1.961294 & 3.846672 & 184     \\\\\n",
       "\\end{tabular}\n"
      ],
      "text/markdown": [
       "\n",
       "mean | sd | var | n | \n",
       "|---|\n",
       "| 18.09087 | 1.961294 | 3.846672 | 184      | \n",
       "\n",
       "\n"
      ],
      "text/plain": [
       "  mean     sd       var      n  \n",
       "1 18.09087 1.961294 3.846672 184"
      ]
     },
     "metadata": {},
     "output_type": "display_data"
    }
   ],
   "source": [
    "est_2014 <- data.frame(\n",
    "    mean = mean(data_2014$AVG.Temp),\n",
    "    sd = sd(data_2014$AVG.Temp),\n",
    "    var = var(data_2014$AVG.Temp),\n",
    "    n = length(data_2014$AVG.Temp)\n",
    ")\n",
    "est_2015 <- data.frame(\n",
    "    mean = mean(data_2015$AVG.Temp),\n",
    "    sd = sd(data_2015$AVG.Temp),\n",
    "    var = var(data_2015$AVG.Temp),\n",
    "    n = length(data_2015$AVG.Temp)\n",
    ")\n",
    "est_ <- data.frame(\n",
    "    mean = mean(data_$AVG.Temp),\n",
    "    sd = sd(data_$AVG.Temp),\n",
    "    var = var(data_$AVG.Temp),\n",
    "    n = length(data_$AVG.Temp)\n",
    ")\n",
    "est_2014\n",
    "est_2015\n",
    "est_"
   ]
  },
  {
   "cell_type": "code",
   "execution_count": null,
   "metadata": {},
   "outputs": [],
   "source": []
  },
  {
   "cell_type": "code",
   "execution_count": null,
   "metadata": {},
   "outputs": [],
   "source": []
  },
  {
   "cell_type": "code",
   "execution_count": null,
   "metadata": {},
   "outputs": [],
   "source": []
  },
  {
   "cell_type": "code",
   "execution_count": null,
   "metadata": {},
   "outputs": [],
   "source": [
    "library(dplyr)\n",
    "library(lubridate)\n",
    "datos<-read.csv(\"CdP_estadistica.csv\")\n",
    "datos<- mutate(datos, year=year(date), month=month(date), yday=yday(date))\n",
    "datos_verano14<-datos[(datos$month==7 | datos$month==8 | datos$month==9) & datos$year==2014,]\n",
    "datos_verano15<-datos[(datos$month==7 | datos$month==8 | datos$month==9) & datos$year==2015,]\n",
    "#Media\n",
    "med14<-mean(datos_verano14$AVG.Temp.)\n",
    "med15<-mean(datos_verano15$AVG.Temp.)\n",
    "med14\n",
    "med15\n",
    "#Desviaciones Estándar\n",
    "desv_est14<-sd(datos_verano14$AVG.Temp.)\n",
    "desv_est15<-sd(datos_verano15$AVG.Temp.)\n",
    "desv_est14\n",
    "desv_est15\n",
    "#Varianza\n",
    "varianza14<-var(datos_verano14$AVG.Temp.)\n",
    "varianza15<-var(datos_verano15$AVG.Temp.)\n",
    "varianza14\n",
    "varianza15\n",
    "#Tests\n",
    "mitest<-t.test(datos_verano14$AVG.Temp.,datos_verano15$AVG.Temp.)\n",
    "#Como el p-value es muy cercano a cero, luego rechazo la hipótesis de que las dos\n",
    "#distribuciones sean la misma\n",
    "mivartest<-var.test(datos_verano14$AVG.Temp.,datos_verano15$AVG.Temp.)\n",
    "#El p-value asociado a la varianza es cercano a 1, luego no puedo rechazar la hipotesis de que las\n",
    "#dos distribuciones sean la misma por varianza.\n",
    "\n",
    "#Histogramas\n",
    "hist(datos_verano14$AVG.Temp.)\n",
    "hist(datos_verano15$AVG.Temp.)\n",
    "\n",
    "#Las dos distribuciones son distintas, sin embargo el comportamiento es muy similar\n",
    "\n",
    "datos_verano<-datos[(datos$month==7 | datos$month==8 | datos$month==9),]\n",
    "#Media\n",
    "med<-mean(datos_verano$AVG.Temp.)\n",
    "med\n",
    "#Desviaciones Estándar\n",
    "desv_est<-sd(datos_verano$AVG.Temp.)\n",
    "desv_est\n",
    "#Varianza\n",
    "varianza<-var(datos_verano$AVG.Temp.)\n",
    "varianza\n",
    "\n",
    "\n",
    "dat1<-read.table(\"dat1.DAT\")\n",
    "dat2<-read.table(\"dat2.DAT\")\n",
    "dat11<-dat1[!is.na(dat1)]\n",
    "dat22<-dat2[!is.na(dat2)]\n",
    "\n",
    "\n",
    "#Media\n",
    "mean(dat11)\n",
    "mean(dat22)\n",
    "\n",
    "#Desviacion estandar\n",
    "sd(dat11)\n",
    "sd(dat22)\n",
    "\n",
    "#Varianza\n",
    "var(dat11)\n",
    "var(dat22)\n",
    "\n",
    "testdat<-t.test(dat11,dat22)\n",
    "#p.value=1 Por lo que no podemos descartar que sean diferentes aunque tampoco\n",
    "#podemos garantizar que sean iguales.\n",
    "vartestdat<-var.test(dat11,dat22)\n",
    "#p. value nos sale cercano a uno por lo que no podemos garantizar que se trate de distribuciones\n",
    "#diferentes , pero tampoco garantizar que sean iguales.\n",
    "\n",
    "#Histogramas\n",
    "hist(dat11)\n",
    "hist(dat22)\n",
    "\n",
    "#Aunque los test no descarten que las distribuciones sean distintas en el histograma\n",
    "#podemos ver como en realidad las funciones son muy distintas."
   ]
  },
  {
   "cell_type": "code",
   "execution_count": null,
   "metadata": {},
   "outputs": [],
   "source": []
  },
  {
   "cell_type": "code",
   "execution_count": null,
   "metadata": {},
   "outputs": [],
   "source": []
  },
  {
   "cell_type": "code",
   "execution_count": null,
   "metadata": {},
   "outputs": [],
   "source": []
  },
  {
   "cell_type": "code",
   "execution_count": 41,
   "metadata": {},
   "outputs": [],
   "source": [
    "bootstrap <- function(x) {\n",
    "    sample(x, replace=TRUE)\n",
    "}\n",
    "\n",
    "nbootstrap <- function(x, n) {\n",
    "    m <- matrix(0, ncol=n, nrow=length(x))\n",
    "    for (i in 1:n) {\n",
    "        m[,i] <- bootstrap(x)\n",
    "    }\n",
    "    m\n",
    "}"
   ]
  },
  {
   "cell_type": "code",
   "execution_count": 56,
   "metadata": {},
   "outputs": [],
   "source": [
    "M <- 100\n",
    "data_boot <- nbootstrap(data_$AVG.Temp, M)\n",
    "data_boot_m <- c()\n",
    "for (i in 1:M)\n",
    "    data_boot_m <- c(data_boot_m, mean(data_boot[,i]))"
   ]
  },
  {
   "cell_type": "code",
   "execution_count": 57,
   "metadata": {},
   "outputs": [
    {
     "data": {
      "text/html": [
       "<table>\n",
       "<thead><tr><th scope=col>media</th><th scope=col>sd</th><th scope=col>sesgo</th></tr></thead>\n",
       "<tbody>\n",
       "\t<tr><td>18.08265    </td><td>0.1416633   </td><td>-0.008221196</td></tr>\n",
       "</tbody>\n",
       "</table>\n"
      ],
      "text/latex": [
       "\\begin{tabular}{r|lll}\n",
       " media & sd & sesgo\\\\\n",
       "\\hline\n",
       "\t 18.08265     & 0.1416633    & -0.008221196\\\\\n",
       "\\end{tabular}\n"
      ],
      "text/markdown": [
       "\n",
       "media | sd | sesgo | \n",
       "|---|\n",
       "| 18.08265     | 0.1416633    | -0.008221196 | \n",
       "\n",
       "\n"
      ],
      "text/plain": [
       "  media    sd        sesgo       \n",
       "1 18.08265 0.1416633 -0.008221196"
      ]
     },
     "metadata": {},
     "output_type": "display_data"
    }
   ],
   "source": [
    "data.frame(\n",
    "    media = mean(data_boot_m),\n",
    "    sd = sd(data_boot_m),\n",
    "    sesgo = 1/M * sum(data_boot_m - est_$mean)\n",
    ")"
   ]
  },
  {
   "cell_type": "code",
   "execution_count": 52,
   "metadata": {},
   "outputs": [],
   "source": [
    "jackknife <- function(x) {\n",
    "    m <- matrix(0, ncol=length(x), nrow=length(x)-1)\n",
    "    for (i in 1:length(x)) {\n",
    "        m[,i] <- x[-i]\n",
    "    }\n",
    "    m\n",
    "}"
   ]
  },
  {
   "cell_type": "code",
   "execution_count": 54,
   "metadata": {},
   "outputs": [],
   "source": [
    "data_jack <- jackknife(data_$AVG.Temp)\n",
    "data_jack_m <- c()\n",
    "for (i in 1:M)\n",
    "    data_jack_m <- c(data_jack_m, mean(data_jack[,i]))"
   ]
  },
  {
   "cell_type": "code",
   "execution_count": 55,
   "metadata": {},
   "outputs": [
    {
     "data": {
      "text/html": [
       "<table>\n",
       "<thead><tr><th scope=col>media</th><th scope=col>sd</th><th scope=col>sesgo</th></tr></thead>\n",
       "<tbody>\n",
       "\t<tr><td>18.09298  </td><td>0.01021415</td><td>0.00210967</td></tr>\n",
       "</tbody>\n",
       "</table>\n"
      ],
      "text/latex": [
       "\\begin{tabular}{r|lll}\n",
       " media & sd & sesgo\\\\\n",
       "\\hline\n",
       "\t 18.09298   & 0.01021415 & 0.00210967\\\\\n",
       "\\end{tabular}\n"
      ],
      "text/markdown": [
       "\n",
       "media | sd | sesgo | \n",
       "|---|\n",
       "| 18.09298   | 0.01021415 | 0.00210967 | \n",
       "\n",
       "\n"
      ],
      "text/plain": [
       "  media    sd         sesgo     \n",
       "1 18.09298 0.01021415 0.00210967"
      ]
     },
     "metadata": {},
     "output_type": "display_data"
    }
   ],
   "source": [
    "data.frame(\n",
    "    media = mean(data_jack_m),\n",
    "    sd = sd(data_jack_m),\n",
    "    sesgo = 1/M * sum(data_jack_m - est_$mean)\n",
    ")"
   ]
  },
  {
   "cell_type": "code",
   "execution_count": null,
   "metadata": {},
   "outputs": [],
   "source": []
  },
  {
   "cell_type": "code",
   "execution_count": null,
   "metadata": {},
   "outputs": [],
   "source": []
  },
  {
   "cell_type": "code",
   "execution_count": null,
   "metadata": {},
   "outputs": [],
   "source": []
  },
  {
   "cell_type": "markdown",
   "metadata": {},
   "source": []
  }
 ],
 "metadata": {
  "kernelspec": {
   "display_name": "R",
   "language": "R",
   "name": "ir"
  },
  "language_info": {
   "codemirror_mode": "r",
   "file_extension": ".r",
   "mimetype": "text/x-r-source",
   "name": "R",
   "pygments_lexer": "r",
   "version": "3.4.2"
  }
 },
 "nbformat": 4,
 "nbformat_minor": 2
}
